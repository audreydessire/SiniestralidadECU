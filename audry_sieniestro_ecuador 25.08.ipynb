{
 "cells": [
  {
   "cell_type": "code",
   "execution_count": null,
   "id": "ea7edc20",
   "metadata": {},
   "outputs": [],
   "source": [
    "# Manipulación y procesamiento de Datos\n",
    "# ==============================================================================\n",
    "import pandas as pd\n",
    "import numpy as np\n",
    "\n",
    "# Plot - Gráficos\n",
    "# ==============================================================================\n",
    "import matplotlib.pyplot as plt\n",
    "import seaborn as sns\n",
    "from statsmodels.tsa.seasonal import seasonal_decompose\n",
    "from statsmodels.graphics.tsaplots import plot_acf\n",
    "from statsmodels.graphics.tsaplots import plot_pacf\n",
    "\n",
    "\n",
    "# Definir el tamano del grafico\n",
    "# ==============================================================================\n",
    "from pylab import rcParams\n",
    "rcParams['figure.figsize'] = (18,7)\n",
    "\n",
    "# No presentar advertencia\n",
    "# ==============================================================================\n",
    "import warnings\n",
    "warnings.filterwarnings(\"ignore\")"
   ]
  },
  {
   "cell_type": "markdown",
   "id": "f1125014",
   "metadata": {},
   "source": [
    "# Cargar los datos\n",
    "\n",
    "Los datos\n",
    "\n",
    "se requiere installar\n",
    "\n",
    "`pip install openpyxl`"
   ]
  },
  {
   "cell_type": "code",
   "execution_count": null,
   "id": "d78cfbc9",
   "metadata": {},
   "outputs": [],
   "source": [
    "data = pd.read_excel(\"./siniestro_info_mercado_ecuador.xlsx\")\n",
    "data"
   ]
  },
  {
   "cell_type": "code",
   "execution_count": null,
   "id": "445dd6bc",
   "metadata": {},
   "outputs": [],
   "source": [
    "# Dummy COVID (mar–jun 2020)\n",
    "data[\"covid_dummy\"] = 0\n",
    "data.loc[(data[\"fecha\"] >= np.datetime64(\"2020-04\")) & (data[\"fecha\"] <= np.datetime64(\"2020-12\")), \"covid_dummy\"] = 1\n"
   ]
  },
  {
   "cell_type": "code",
   "execution_count": null,
   "id": "ef2f68cd",
   "metadata": {},
   "outputs": [],
   "source": [
    "data[\"covid_dummy\"].unique()"
   ]
  },
  {
   "cell_type": "code",
   "execution_count": null,
   "id": "63d373dd",
   "metadata": {},
   "outputs": [],
   "source": [
    "data.info()"
   ]
  },
  {
   "cell_type": "code",
   "execution_count": null,
   "id": "0938f4d5",
   "metadata": {},
   "outputs": [],
   "source": [
    "data.describe(include= [\"float\"])"
   ]
  },
  {
   "cell_type": "code",
   "execution_count": null,
   "id": "3a74736b",
   "metadata": {},
   "outputs": [],
   "source": [
    "data.columns"
   ]
  },
  {
   "cell_type": "code",
   "execution_count": null,
   "id": "6e3a2db3",
   "metadata": {},
   "outputs": [],
   "source": [
    "dark_style = {\n",
    "    'axes.facecolor': \"#AB915E\", # '#484366'  '#008080' \"#abc9ea\",\"#98daa7\" ,\"#f3aba8\"  ,\"#d3c3f7\", \"#f3f3af\",  \"#c0ebe9\"\n",
    "    'axes.grid': True,}  \n",
    "plt.rcParams.update(dark_style)"
   ]
  },
  {
   "cell_type": "code",
   "execution_count": null,
   "id": "637da2f7",
   "metadata": {},
   "outputs": [],
   "source": [
    "plt.figure(figsize=(18, 6))\n",
    "sns.lineplot(x='fecha', y = 'tasa_siniestralidad', data = data, )\n",
    "plt.title('Tasa de Siniestralidad')\n",
    "#plt.grid()\n",
    "plt.show()"
   ]
  },
  {
   "cell_type": "code",
   "execution_count": null,
   "id": "261cd7dd",
   "metadata": {},
   "outputs": [],
   "source": [
    "plt.figure(figsize=(18, 6))\n",
    "sns.lineplot(x='fecha', y = 'prima_nrd', data = data)\n",
    "plt.title('Prima Neta Devengada')\n",
    "plt.xticks(rotation=45)\n",
    "plt.show()"
   ]
  },
  {
   "cell_type": "code",
   "execution_count": null,
   "id": "9716bb04",
   "metadata": {},
   "outputs": [],
   "source": [
    "plt.figure(figsize=(18, 6))\n",
    "sns.lineplot(x='fecha', y = 'costo_siniestros', data = data)\n",
    "plt.title('costo_siniestros')\n",
    "plt.xticks(rotation=45)\n",
    "plt.show()\n"
   ]
  },
  {
   "cell_type": "code",
   "execution_count": null,
   "id": "3737b7bf",
   "metadata": {},
   "outputs": [],
   "source": [
    "# Setting up the seaborn style\n",
    "sns.set(style=\"whitegrid\")\n",
    "\n",
    "# Histogram for the 'price' variable\n",
    "plt.figure(figsize=(12, 7))\n",
    "sns.histplot(data[\"tasa_siniestralidad\"], kde=True, color='skyblue', bins=25, alpha=0.7, line_kws={'linewidth': 2, 'color': 'blue'})\n",
    "plt.title('Tasa de Siniestralidad', fontsize=16)\n",
    "#plt.xlabel('Price', fontsize=14)\n",
    "plt.ylabel('Frequency', fontsize=14)\n",
    "\n",
    "# Adding mean and median lines\n",
    "mean_price = data[\"tasa_siniestralidad\"].mean()\n",
    "median_price = data[\"tasa_siniestralidad\"].median()\n",
    "plt.axvline(mean_price, color='red', linestyle='--', linewidth=2, label=f'Mean: ${mean_price:.2f}')\n",
    "plt.axvline(median_price, color='green', linestyle='-', linewidth=2, label=f'Median: ${median_price:.2f}')\n",
    "\n",
    "# Adding a legend\n",
    "plt.legend()\n",
    "plt.grid(False)\n",
    "\n",
    "# Displaying the plot\n",
    "plt.show()"
   ]
  },
  {
   "cell_type": "code",
   "execution_count": null,
   "id": "9776e30b",
   "metadata": {},
   "outputs": [],
   "source": [
    "data['Day'] = data['fecha'].dt.day_name().astype('category')\n",
    "data['Month'] = data['fecha'].dt.month_name().astype('category')"
   ]
  },
  {
   "cell_type": "code",
   "execution_count": null,
   "id": "561eebf3",
   "metadata": {},
   "outputs": [],
   "source": [
    "day_ordered = ['Monday', 'Tuesday', 'Wednesday', 'Thursday', 'Friday', 'Saturday', 'Sunday']\n",
    "data['Day'] = pd.Categorical(data['Day'], categories=day_ordered, ordered=True)\n",
    "\n",
    "month_ordered = ['January', 'February', 'March', 'April', 'May', 'June', \n",
    "                 'July', 'August', 'September', 'October', 'November', 'December']\n",
    "\n",
    "data['Month'] = pd.Categorical(data['Month'], categories=month_ordered, ordered=True)"
   ]
  },
  {
   "cell_type": "code",
   "execution_count": null,
   "id": "8d5c4a39",
   "metadata": {},
   "outputs": [],
   "source": [
    "# Set the figure and axes\n",
    "fig, ax = plt.subplots(figsize=(18,6))\n",
    "\n",
    "# Plot the sales trend across the date\n",
    "sns.lineplot(x = 'Month', y = 'tasa_siniestralidad', data = data, ci=None, marker='o', color='darkblue', ax=ax)\n",
    "\n",
    "# Despine the right side\n",
    "sns.despine(right=True)\n",
    "\n",
    "# Set the label\n",
    "ax.set_xlabel('Month', color='#6F7378')\n",
    "ax.set_ylabel('Frecuencia de Siniestralidad', color='#6F7478')\n",
    "\n",
    "# Change the spine color\n",
    "for spine in ax.spines.values():\n",
    "    spine.set_edgecolor('#6F7378')\n",
    "\n",
    "# Set the title\n",
    "ax.set_title('Tasa de Siniestralidad - Mensual', weight='bold', pad=30, size=14, x=-0.115,\n",
    "             color='#6F7378', ha='left') \n",
    "\n",
    "# Change tick color\n",
    "ax.tick_params(color='#6F7378')\n",
    "\n",
    "plt.show()"
   ]
  },
  {
   "cell_type": "code",
   "execution_count": null,
   "id": "011aa989",
   "metadata": {},
   "outputs": [],
   "source": [
    "# Boxplot graph for monthly seasonality\n",
    "# ==============================================================================\n",
    "df1 = data.copy()\n",
    "plt.style.use('classic')\n",
    "fig, ax = plt.subplots(figsize=(18, 7))\n",
    "df1['month'] = df1['fecha'].apply(lambda x: x.month)\n",
    "df1.boxplot(column = 'tasa_siniestralidad', by='month', ax=ax, color=\"red\")\n",
    "df1.groupby('month')[\"tasa_siniestralidad\"].median().plot(style='o-', linewidth=0.9, ax=ax)\n",
    "ax.set_ylabel('Beer')\n",
    "ax.set_title('Estacionalidad mensual: Tasa de Siniestralidad')\n",
    "fig.suptitle('');\n",
    "#plt.savefig(\"Gráfico de Barra-mes\")"
   ]
  },
  {
   "cell_type": "code",
   "execution_count": null,
   "id": "cbfcca55",
   "metadata": {},
   "outputs": [],
   "source": [
    "# Boxplot graph for annual seasonality\n",
    "# ==============================================================================\n",
    "# Extract year component from date\n",
    "df1['year'] = data['fecha'].dt.year\n",
    "\n",
    "# Create a dictionary to store the data for each year\n",
    "data_anual = {}\n",
    "for year in df1['year'].unique():\n",
    "    data_anual[year] = df1.loc[df1['year'] == year, 'tasa_siniestralidad'].values\n",
    "\n",
    "# Create a data list for the Boxplot chart\n",
    "boxplot_data = [data_anual[year] for year in sorted(data_anual.keys())]\n",
    "\n",
    "# Create the Boxplot chart\n",
    "plt.figure(figsize=(18, 6))\n",
    "plt.boxplot(boxplot_data, labels=sorted(data_anual.keys()))\n",
    "plt.xlabel('year')\n",
    "plt.ylabel('tasa_siniestralidad')\n",
    "plt.title('Estacionalidad Anual: tasa_siniestralidad')\n",
    "\n",
    "# Add the median line graph\n",
    "medians = [np.median(data_anual[year]) for year in sorted(data_anual.keys())]\n",
    "plt.plot(range(1, len(medians) + 1), medians, marker='o', color='red', linestyle='-')\n",
    "\n",
    "plt.show()"
   ]
  },
  {
   "cell_type": "code",
   "execution_count": null,
   "id": "7cc4c1d7",
   "metadata": {},
   "outputs": [],
   "source": [
    "fig, axs = plt.subplots(nrows=1, ncols=2, figsize = (18, 6))\n",
    "\n",
    "# Cambiar fondo de cada subplot\n",
    "for ax in axs.flat:\n",
    "    ax.set_facecolor(\"#C4A0A9\")  # color amarillo claro\n",
    "    ax.grid(True, linestyle='--', alpha=0.6)  # grilla activada\n",
    "    ax.set_axisbelow(True)                   # Grilla detrás de los datos\n",
    "\n",
    "plot_acf(data[\"tasa_siniestralidad\"],  lags = 60, ax = axs[0],color=\"fuchsia\")\n",
    "axs[0].set_title(\"Autocorrelation\");\n",
    "\n",
    "# Grafico\n",
    "plot_pacf(data[\"tasa_siniestralidad\"],  lags = 60, ax=axs[1],color=\"lime\")\n",
    "axs[1].set_title('Partial Autocorrelation')\n",
    "\n",
    "#plt.savefig(\"Gráfico de Densidad y qq\")\n",
    "plt.show();"
   ]
  },
  {
   "cell_type": "markdown",
   "id": "2abad47d",
   "metadata": {},
   "source": [
    "# Analisis de correlacion\n",
    "\n",
    "La correlacion ayuda a seleccionar variable\n",
    "\n",
    "- Definir que tipo de correlacion quiero\n",
    "    - Exista correlacion entre las variables (entre mas alto mejor)\n",
    "    - No Correlacion (entre mas bajo mejor)\n",
    "    - Exista correlacion inversa(valor negativo mas alto mejor)"
   ]
  },
  {
   "cell_type": "code",
   "execution_count": null,
   "id": "c283a1d6",
   "metadata": {},
   "outputs": [],
   "source": [
    "plt.figure(figsize= (18,6))\n",
    "sns.heatmap(data.corr(numeric_only= True),annot=True, cmap=\"coolwarm\")\n",
    "plt.title(\"Correlación\")\n",
    "plt.show()"
   ]
  },
  {
   "cell_type": "code",
   "execution_count": null,
   "id": "8879df37",
   "metadata": {},
   "outputs": [],
   "source": [
    "from statsmodels.tsa.seasonal import seasonal_decompose \n",
    "add = seasonal_decompose(data[\"tasa_siniestralidad\"], model = \"add\", period = 12)\n",
    "add.plot();"
   ]
  },
  {
   "cell_type": "code",
   "execution_count": null,
   "id": "65a32ca3",
   "metadata": {},
   "outputs": [],
   "source": [
    "from statsmodels.graphics.tsaplots import plot_acf, plot_pacf\n",
    "from statsmodels.tsa.stattools import adfuller\n",
    "import statsmodels.api as sm\n",
    "import statsmodels.tsa.api as smt\n",
    "\n",
    "# Prueba Dickey Fuller\n",
    "from statsmodels.tsa.stattools import adfuller\n",
    "from numpy import log\n",
    "def Augmented_Dickey_Fuller_Test_func(series , column_name):\n",
    "    print (f'Resultados de la prueba de Dickey-Fuller para columna: {column_name}')\n",
    "    dftest = adfuller(series, autolag='AIC')\n",
    "    dfoutput = pd.Series(dftest[0:4], index=['Test Statistic','p-value','No Lags Used','Número de observaciones utilizadas'])\n",
    "    for key,value in dftest[4].items():\n",
    "       dfoutput['Critical Value (%s)'%key] = value\n",
    "    print (dfoutput)\n",
    "    if dftest[1] <= 0.05: # P - Values\n",
    "        print(\"Conclusion:====>\")\n",
    "        print(\"Rechazar la hipótesis nula\")\n",
    "        print(\"Los datos son estacionarios\")\n",
    "    else:\n",
    "        print(\"Conclusion:====>\")\n",
    "        print(\"No se puede rechazar la hipótesis nula\")\n",
    "        print(\"Los datos no son estacionarios\")"
   ]
  },
  {
   "cell_type": "code",
   "execution_count": null,
   "id": "b5f3d3cf",
   "metadata": {},
   "outputs": [],
   "source": [
    "Augmented_Dickey_Fuller_Test_func(data[\"tasa_siniestralidad\"],\"Tasa de Siniestralidad\")"
   ]
  },
  {
   "cell_type": "code",
   "execution_count": null,
   "id": "9df1f072",
   "metadata": {},
   "outputs": [],
   "source": [
    "Augmented_Dickey_Fuller_Test_func(data[\"tasa_siniestralidad\"].diff().dropna(),\"Tasa de Siniestralidad\")"
   ]
  },
  {
   "cell_type": "code",
   "execution_count": null,
   "id": "419e9f86",
   "metadata": {},
   "outputs": [],
   "source": [
    "Augmented_Dickey_Fuller_Test_func(data[\"tasa_siniestralidad\"].diff().diff().dropna(),\"Tasa de Siniestralidad\")"
   ]
  },
  {
   "cell_type": "code",
   "execution_count": null,
   "id": "ca401ee0",
   "metadata": {},
   "outputs": [],
   "source": [
    "def tsplot(y, lags=None, figsize=(18, 7), style='bmh'): # [3]\n",
    "    if not isinstance(y, pd.Series):\n",
    "        y = pd.Series(y)\n",
    "        \n",
    "    with plt.style.context(style):    \n",
    "        fig = plt.figure(figsize=figsize)\n",
    "        layout = (2, 2)\n",
    "        ts_ax = plt.subplot2grid(layout, (0, 0), colspan=2)\n",
    "        acf_ax = plt.subplot2grid(layout, (1, 0))\n",
    "        pacf_ax = plt.subplot2grid(layout, (1, 1))\n",
    "        \n",
    "        y.plot(ax=ts_ax)\n",
    "        p_value = sm.tsa.stattools.adfuller(y)[1]\n",
    "        ts_ax.set_title('Gráfico de analisys de Serie de Tiempo\\n Dickey-Fuller: p={0:.5f}'.format(p_value))\n",
    "        smt.graphics.plot_acf(y, lags=lags, ax=acf_ax)\n",
    "        smt.graphics.plot_pacf(y, lags=lags, ax=pacf_ax)\n",
    "        plt.tight_layout()"
   ]
  },
  {
   "cell_type": "code",
   "execution_count": null,
   "id": "f10f0183",
   "metadata": {},
   "outputs": [],
   "source": [
    "tsplot(data[\"tasa_siniestralidad\"].diff().diff().dropna(), lags = 40);"
   ]
  },
  {
   "cell_type": "markdown",
   "id": "dde4106f",
   "metadata": {},
   "source": [
    "Necesitamos conocer los terminos de los modelo AR y del modelo MA:\n",
    "\n",
    "- Para el modelo AR, necesitamos visualizar el grafico PACF.\n",
    "\n",
    "- Para el modelo MA, necesitamos visualizar el grafico de ACF."
   ]
  },
  {
   "cell_type": "markdown",
   "id": "b6832529",
   "metadata": {},
   "source": [
    "## `GridSearch del Modelo ARIMA`"
   ]
  },
  {
   "cell_type": "code",
   "execution_count": null,
   "id": "88390f17",
   "metadata": {},
   "outputs": [],
   "source": [
    "import pandas as pd\n",
    "import numpy as np\n",
    "from statsmodels.tsa.arima.model import ARIMA\n",
    "import warnings\n",
    "\n",
    "warnings.filterwarnings(\"ignore\")\n",
    "\n",
    "# Supongamos que tienes una serie temporal llamada 'y'\n",
    "# y = tu_serie_temporal\n",
    "\n",
    "# Rango de valores para p y q\n",
    "p_range = range(0, 5)\n",
    "q_range = range(0, 5)\n",
    "\n",
    "# Guardar resultados\n",
    "resultados = []\n",
    "\n",
    "for p in p_range:\n",
    "    for q in q_range:\n",
    "        if p == 0 and q == 0:\n",
    "            continue  # ARMA(0,0) no tiene sentido\n",
    "        try:\n",
    "            modelo = ARIMA(data[\"tasa_siniestralidad\"], order=(p, 2, q))\n",
    "            resultado = modelo.fit()\n",
    "            resultados.append({\n",
    "                'p': p,\n",
    "                'i': 2,\n",
    "                'q': q,\n",
    "                'AIC': resultado.aic,\n",
    "                'BIC': resultado.bic\n",
    "            })\n",
    "        except:\n",
    "            continue\n",
    "\n",
    "# Convertir a DataFrame\n",
    "df_resultados = pd.DataFrame(resultados)"
   ]
  },
  {
   "cell_type": "code",
   "execution_count": null,
   "id": "134242b2",
   "metadata": {},
   "outputs": [],
   "source": [
    "# Ordenar por AIC\n",
    "print(\"Top modelos por AIC:\")\n",
    "print(df_resultados.sort_values('AIC').head())\n",
    "\n",
    "# Ordenar por BIC\n",
    "print(\"\\nTop modelos por BIC:\")\n",
    "print(df_resultados.sort_values('BIC').head())"
   ]
  },
  {
   "cell_type": "markdown",
   "id": "4f465c5f",
   "metadata": {},
   "source": [
    "ARIMA(p, i, q)"
   ]
  },
  {
   "cell_type": "code",
   "execution_count": null,
   "id": "3d907efd",
   "metadata": {},
   "outputs": [],
   "source": [
    "import seaborn as sns\n",
    "import matplotlib.pyplot as plt\n",
    "\n",
    "pivot = df_resultados.pivot(index='p', columns='q', values='AIC')\n",
    "plt.figure(figsize=(18, 6))\n",
    "sns.heatmap(pivot, annot=True, fmt=\".1f\", cmap=\"YlGnBu\")\n",
    "plt.title(\"Mapa de calor de AIC para combinaciones (p, q)\")\n",
    "plt.xlabel(\"q\")\n",
    "plt.ylabel(\"p\")\n",
    "plt.tight_layout()\n",
    "plt.show()"
   ]
  },
  {
   "cell_type": "markdown",
   "id": "7d4a4659",
   "metadata": {},
   "source": [
    "## Division de los Datos \n",
    "\n",
    "Dividamos nuestros datos en conjuntos.\n",
    "1. Datos para entrenar nuestro modelo\n",
    "2. Datos para probar nuestro modelo.\n",
    "\n",
    "Para los datos de prueba utilizaremos los últimos 12 meses para probar y evaluar el rendimiento de nuestro modelo."
   ]
  },
  {
   "cell_type": "code",
   "execution_count": null,
   "id": "712f9461",
   "metadata": {},
   "outputs": [],
   "source": [
    "sini = data[['fecha', 'costo_siniestros', 'prima_nrd', 'tasa_siniestralidad','ipc_transporte', 'precipitacion']]\n",
    "sini = sini.set_index('fecha')\n",
    "sini"
   ]
  },
  {
   "cell_type": "code",
   "execution_count": null,
   "id": "7f7380c2",
   "metadata": {},
   "outputs": [],
   "source": [
    "train = sini[sini.index<= '2024-07-01'] \n",
    "test = sini[sini.index>'2024-07-01'] \n",
    "\n",
    "train.shape, test.shape"
   ]
  },
  {
   "cell_type": "markdown",
   "id": "58761fda",
   "metadata": {},
   "source": [
    "###  se requiere instalar \n",
    "`!pip install pmdarima`\n",
    "\n",
    "Para instalar `pmdarima` necesitas crear un entorno nuevo con una version `Numpy` inferior"
   ]
  },
  {
   "cell_type": "code",
   "execution_count": null,
   "id": "b6fc59af",
   "metadata": {},
   "outputs": [],
   "source": [
    "\n",
    "from pmdarima import auto_arima"
   ]
  },
  {
   "cell_type": "code",
   "execution_count": null,
   "id": "198f0123",
   "metadata": {},
   "outputs": [],
   "source": [
    "# Ajustar modelo ARIMA no estacional\n",
    "modelo = auto_arima(\n",
    "    train[\"tasa_siniestralidad\"],\n",
    "    seasonal=False,     # 🔑 Desactiva la estacionalidad\n",
    "    stepwise=True,      # Búsqueda eficiente\n",
    "    suppress_warnings=True,\n",
    "    trace=True           # Muestra el proceso de búsqueda\n",
    ")"
   ]
  },
  {
   "cell_type": "markdown",
   "id": "5f17dbc1",
   "metadata": {},
   "source": [
    "## Modelo ARIMA"
   ]
  },
  {
   "cell_type": "code",
   "execution_count": null,
   "id": "9df6b9ab",
   "metadata": {},
   "outputs": [],
   "source": [
    "from statsmodels.tsa.arima.model import ARIMA\n",
    "from statsmodels.tsa.statespace.sarimax import SARIMAX\n",
    "\n",
    "# Fit the ARIMA model\n",
    "\n",
    "model_ARIMA = ARIMA(train[\"tasa_siniestralidad\"],order = (1,1,0),)\n",
    "\n",
    "# Entrenar el modelo\n",
    "arima_fit = model_ARIMA.fit()\n",
    "\n",
    "# Mostrar resumen del Model\n",
    "print(arima_fit.summary())"
   ]
  },
  {
   "cell_type": "code",
   "execution_count": null,
   "id": "8d887fab",
   "metadata": {},
   "outputs": [],
   "source": [
    "import scipy.stats as stats\n",
    "\n",
    "residuales =pd.DataFrame(arima_fit.resid.iloc[1:], columns = [\"residuo\"])\n",
    "\n",
    "fig, axs = plt.subplots(nrows=2, ncols=2)\n",
    "\n",
    "# plot[1,1]\n",
    "residuales[\"residuo\"].plot(ax=axs[0,0])\n",
    "axs[0,0].set_title(\"Residuals\");\n",
    "axs[0,0].axhline(0, linestyle='--', color='gray')\n",
    "\n",
    "# plot\n",
    "sns.distplot(residuales[\"residuo\"], ax=axs[0,1]);\n",
    "axs[0,1].set_title(\"Density plot - Residual\");\n",
    "\n",
    "# plot\n",
    "stats.probplot(residuales[\"residuo\"], dist=\"norm\", plot=axs[1,0])\n",
    "axs[1,0].set_title('Plot Q-Q')\n",
    "\n",
    "# plot\n",
    "plot_acf(residuales[\"residuo\"],  lags=35, ax=axs[1,1],color=\"fuchsia\")\n",
    "axs[1,1].set_title(\"Autocorrelation\");\n",
    "\n",
    "plt.show();"
   ]
  },
  {
   "cell_type": "code",
   "execution_count": null,
   "id": "e03816a0",
   "metadata": {},
   "outputs": [],
   "source": [
    "test"
   ]
  },
  {
   "cell_type": "code",
   "execution_count": null,
   "id": "c1032eb0",
   "metadata": {},
   "outputs": [],
   "source": [
    "# forecast = arima.forecast(steps = 5)\n",
    "forecast = arima_fit.forecast(steps = 12)\n",
    "forecast"
   ]
  },
  {
   "cell_type": "code",
   "execution_count": null,
   "id": "67e80627",
   "metadata": {},
   "outputs": [],
   "source": [
    "# plot forcasting\n",
    "plt.figure(figsize=(18,6))\n",
    "plt.plot(sini[\"tasa_siniestralidad\"], label='Actual')\n",
    "#plt.plot(weekly_venta_log[-90:], label='Actual')\n",
    "plt.plot(forecast, label='Forecast')\n",
    "plt.title('MA Model Forecast')\n",
    "plt.legend()\n",
    "plt.show()"
   ]
  },
  {
   "cell_type": "code",
   "execution_count": null,
   "id": "8a93792d",
   "metadata": {},
   "outputs": [],
   "source": [
    "from sklearn.metrics import mean_squared_error\n",
    "\n",
    "#  RMSE\n",
    "arma_rmse1 = np.sqrt(mean_squared_error(test['tasa_siniestralidad'], forecast))\n",
    "\n",
    "print(f'Modelo ARIMA RMSE: {arma_rmse1}')"
   ]
  },
  {
   "cell_type": "markdown",
   "id": "640be5ac",
   "metadata": {},
   "source": [
    "## `Modelo Sarima`"
   ]
  },
  {
   "cell_type": "code",
   "execution_count": null,
   "id": "23281f80",
   "metadata": {},
   "outputs": [],
   "source": [
    "from pmdarima import auto_arima\n",
    "\n",
    "# Ajustar modelo ARIMA estacional\n",
    "modelo = auto_arima(\n",
    "    train[\"tasa_siniestralidad\"],\n",
    "    seasonal = True,        # 🔑 Activar estacionalidad\n",
    "    m = 12,                 # Periodo estacional (12 para mensual, 7 para semanal, etc.)\n",
    "    stepwise=True,\n",
    "    trace=True,\n",
    "    suppress_warnings=True\n",
    ")"
   ]
  },
  {
   "cell_type": "code",
   "execution_count": null,
   "id": "cb3c2068",
   "metadata": {},
   "outputs": [],
   "source": [
    "from statsmodels.tsa.statespace.sarimax import SARIMAX\n",
    "\n",
    "sarima_model= SARIMAX(train['tasa_siniestralidad'], order = (1,1,0), seasonal_order = (2,0,0,12), )\n",
    "sarima_fit = sarima_model.fit()\n",
    "print(sarima_fit.summary())"
   ]
  },
  {
   "cell_type": "code",
   "execution_count": null,
   "id": "96cf1a4b",
   "metadata": {},
   "outputs": [],
   "source": [
    "sarima_forecast = sarima_fit.forecast(steps = 12)\n",
    "sarima_forecast"
   ]
  },
  {
   "cell_type": "code",
   "execution_count": null,
   "id": "fa7995c3",
   "metadata": {},
   "outputs": [],
   "source": [
    "# plot forcast\n",
    "plt.figure(figsize=(18,6))\n",
    "plt.plot(sini[\"tasa_siniestralidad\"], label='Actual')\n",
    "plt.plot(sarima_forecast, label='SARIMA Forecast')\n",
    "plt.title('SARIMA Forecast')\n",
    "plt.legend()\n",
    "plt.grid()\n",
    "plt.show()"
   ]
  },
  {
   "cell_type": "code",
   "execution_count": null,
   "id": "e46d0c88",
   "metadata": {},
   "outputs": [],
   "source": [
    "from sklearn.metrics import mean_squared_error\n",
    "\n",
    "#  RMSE\n",
    "arima_rmse2 = np.sqrt(mean_squared_error(test['tasa_siniestralidad'], sarima_forecast))\n",
    "\n",
    "print(f'Modelo MA RMSE: {arima_rmse2}')"
   ]
  },
  {
   "cell_type": "markdown",
   "id": "f602126a",
   "metadata": {},
   "source": [
    "## `Modelo SARIMAX`"
   ]
  },
  {
   "cell_type": "code",
   "execution_count": null,
   "id": "44c2dcf7",
   "metadata": {},
   "outputs": [],
   "source": [
    "data.columns"
   ]
  },
  {
   "cell_type": "code",
   "execution_count": null,
   "id": "9f898dbc",
   "metadata": {},
   "outputs": [],
   "source": [
    "sini2 = data[['fecha', 'costo_siniestros', 'prima_nrd', 'tasa_siniestralidad','ipc_transporte', 'precipitacion', 'riesgo_pais', 'feriados_dias', 'covid_dummy']]\n",
    "\n",
    "# Renombrar variables\n",
    "sini2 = sini2.rename({\"fecha\": \"ds\", \"tasa_siniestralidad\": \"y\"}, axis = 1)\n",
    "sini2[\"unique_id\"] = \"Tasa de Siniestralidad\"\n",
    "sini2"
   ]
  },
  {
   "cell_type": "code",
   "execution_count": null,
   "id": "66daace2",
   "metadata": {},
   "outputs": [],
   "source": [
    "sini2 = sini2.set_index('ds')"
   ]
  },
  {
   "cell_type": "code",
   "execution_count": null,
   "id": "a13d745f",
   "metadata": {},
   "outputs": [],
   "source": [
    "sini2.columns"
   ]
  },
  {
   "cell_type": "markdown",
   "id": "f6a23cee",
   "metadata": {},
   "source": [
    "## VIF\n",
    "El método VIF (Variance Inflation Factor) es una técnica estadística utilizada para detectar multicolinealidad entre variables independientes en un modelo de regresión. En otras palabras, mide cuánto se “inflan” las varianzas de los coeficientes debido a la correlación entre predictores.\n",
    "\n",
    "###  ¿Qué significa el VIF?\n",
    "\n",
    "$$\n",
    "\\text{VIF}_i = \\frac{1}{1 - R_i^2}\n",
    "$$\n",
    "\n",
    "Donde $ R_i^2 $ es el coeficiente de determinación de la regresión de la variable $ i $ contra todas las demás variables independientes.\n",
    "\n",
    "---\n",
    "\n",
    "### 📊 Interpretación de los valores\n",
    "\n",
    "| VIF        | Interpretación 📘                          |\n",
    "|------------|--------------------------------------------|\n",
    "| 1          | No hay multicolinealidad                   |\n",
    "| 1–5        | Multicolinealidad moderada (aceptable)     |\n",
    "| > 5        | Multicolinealidad alta (precaución)        |\n",
    "| > 10       | Multicolinealidad severa (revisar modelo)  |\n",
    "\n",
    "\n",
    "### 🧭 ¿Por qué es útil?\n",
    "\n",
    "- Te ayuda a **diagnosticar redundancia** entre variables.\n",
    "- Mejora la **interpretabilidad** del modelo.\n",
    "- Permite **reducir ruido** y evitar sobreajuste.\n"
   ]
  },
  {
   "cell_type": "markdown",
   "id": "4d511630",
   "metadata": {},
   "source": [
    "### `Interpretación del VIF`\n",
    "\n",
    "El VIF indica cuánto aumenta la varianza de un coeficiente de regresión debido a la correlación \n",
    "\n",
    "con otras variables predictoras. Los umbrales comunes son:\n",
    "\n",
    "$$\\text{VIF}_j = \\frac{1}{1 - R_{j}^2} $$\n",
    "\n",
    "- VIF < 5: Sin multicolinealidad significativa.\n",
    "\n",
    "- 5 < VIF < 10: Multicolinealidad moderada, tolerable en algunos casos.\n",
    "\n",
    "- VIF > 10: Multicolinealidad alta, problemática para modelos lineales.\n"
   ]
  },
  {
   "cell_type": "code",
   "execution_count": null,
   "id": "d9c657e1",
   "metadata": {},
   "outputs": [],
   "source": [
    "sini2.columns"
   ]
  },
  {
   "cell_type": "code",
   "execution_count": null,
   "id": "f0c5b71a",
   "metadata": {},
   "outputs": [],
   "source": [
    "import pandas as pd\n",
    "import numpy as np\n",
    "from statsmodels.stats.outliers_influence import variance_inflation_factor\n",
    "\n",
    "# Suponiendo tus datos imputados (data_imputed del código anterior)\n",
    "reduced_vars = [\n",
    " 'prima_nrd', 'covid_dummy',\n",
    " 'precipitacion', 'riesgo_pais', 'feriados_dias'\n",
    "]\n",
    "X_reduced = sini2[reduced_vars]\n",
    "\n",
    "vif_reduced = pd.DataFrame()\n",
    "vif_reduced['Variable'] = X_reduced.columns\n",
    "vif_reduced['VIF'] = [variance_inflation_factor(X_reduced.values, i) for i in range(X_reduced.shape[1])]\n",
    "\n",
    "print(\"VIF con variables reducidas:\")\n",
    "print(vif_reduced)"
   ]
  },
  {
   "cell_type": "markdown",
   "id": "a8362144",
   "metadata": {},
   "source": [
    "#### `Agregar rezagos`\n",
    "\n",
    "- Muestra los valores pasado de la series"
   ]
  },
  {
   "cell_type": "code",
   "execution_count": null,
   "id": "ff1c6d31",
   "metadata": {},
   "outputs": [],
   "source": [
    "num_lags = 5\n",
    "for lag in range(1, num_lags + 1):\n",
    "    sini2[f'lag{lag}'] = sini2['y'].shift(lag)\n",
    "\n",
    "#sini2.dropna(inplace = True)\n"
   ]
  },
  {
   "cell_type": "markdown",
   "id": "a258d830",
   "metadata": {},
   "source": [
    "### `Agregar promedios moviles`\n",
    "\n",
    "- Promedio movil: muestra los erroes de la series temporal"
   ]
  },
  {
   "cell_type": "code",
   "execution_count": null,
   "id": "adbcddb5",
   "metadata": {},
   "outputs": [],
   "source": [
    "# Lista de tamaños de ventana\n",
    "windows = [2, 3, 4]\n",
    "\n",
    "# Calcular promedios móviles para cada tamaño de ventana\n",
    "for window in windows:\n",
    "    sini2[f'moving_average_{window}'] = sini2['y'].rolling(window=window).mean()\n",
    "\n",
    "sini2.dropna(inplace = True)\n",
    "\n",
    "# Mostrar el DataFrame con los promedios móviles\n",
    "sini2"
   ]
  },
  {
   "cell_type": "code",
   "execution_count": null,
   "id": "07c127e1",
   "metadata": {},
   "outputs": [],
   "source": [
    "train2 = sini2[sini2.index<= '2024-07-01'] \n",
    "test2 = sini2[sini2.index>'2024-07-01'] \n",
    "\n",
    "train2.shape, test2.shape"
   ]
  },
  {
   "cell_type": "code",
   "execution_count": null,
   "id": "083e86a2",
   "metadata": {},
   "outputs": [],
   "source": [
    "train2"
   ]
  },
  {
   "cell_type": "markdown",
   "id": "8f3aab59",
   "metadata": {},
   "source": [
    "- costo siniestro = el gasto del siniestro \n",
    "\n",
    "- tasa de siniestralidad = costo_siniestra/ pnrd"
   ]
  },
  {
   "cell_type": "code",
   "execution_count": null,
   "id": "e07f6bb5",
   "metadata": {},
   "outputs": [],
   "source": [
    "from statsmodels.tsa.statespace.sarimax import SARIMAX\n",
    "\n",
    "sarimax_model = SARIMAX(train2['y'], \n",
    "                       exog = train2[['costo_siniestros', 'precipitacion', 'riesgo_pais',  'moving_average_2', 'lag1', 'moving_average_3', 'moving_average_4']], # variable exogena\n",
    "                        order = (0,1,1),  # parte no estacional\n",
    "                       seasonal_order = (0,1,0,12)) # SMA(12) con periodo 52\n",
    "\n",
    "\n",
    "\n",
    "# Entrenar el modelo\n",
    "sarimax_fit = sarimax_model.fit()\n",
    "\n",
    "# Mostrar el resumen del Modelo\n",
    "\n",
    "print(sarimax_fit.summary())"
   ]
  },
  {
   "cell_type": "markdown",
   "id": "b423497b",
   "metadata": {},
   "source": [
    "prima_nrd', 'precipitacion', 'lag1', 'moving_average_2',"
   ]
  },
  {
   "cell_type": "code",
   "execution_count": null,
   "id": "3f95428b",
   "metadata": {},
   "outputs": [],
   "source": [
    "# Forecast\n",
    "#sarmax_pred = sarma_fit.forecast(steps=len(test), exog = test[[\"checkout_price\", 'base_price']])\n",
    "sarimax_pred = sarimax_fit.predict(start = \"2024-08-01\", end = \"2025-07-01\" , \n",
    "                                   exog = test2[['costo_siniestros', 'precipitacion', 'riesgo_pais',  'moving_average_2', 'lag1', 'moving_average_3', 'moving_average_4']])\n",
    "sarimax_pred"
   ]
  },
  {
   "cell_type": "code",
   "execution_count": null,
   "id": "080848ee",
   "metadata": {},
   "outputs": [],
   "source": [
    "test2[['y']]"
   ]
  },
  {
   "cell_type": "code",
   "execution_count": null,
   "id": "24a8b7d1",
   "metadata": {},
   "outputs": [],
   "source": [
    "from sklearn.metrics import mean_absolute_percentage_error\n",
    "from sklearn.metrics import mean_squared_error"
   ]
  },
  {
   "cell_type": "code",
   "execution_count": null,
   "id": "fb024bc3",
   "metadata": {},
   "outputs": [],
   "source": [
    "sarimax_rmse = np.sqrt(mean_squared_error(test2['y'], sarimax_pred))\n",
    "print(f'SARIMAX RMSE: {sarimax_rmse}')"
   ]
  },
  {
   "cell_type": "code",
   "execution_count": null,
   "id": "4c04c364",
   "metadata": {},
   "outputs": [],
   "source": [
    "# Cálculo del MAPE\n",
    "sarimax_mape = mean_absolute_percentage_error(test2['y'], sarimax_pred) * 100\n",
    "print(f'SARIMAX MAPE: {sarimax_mape}')"
   ]
  },
  {
   "cell_type": "markdown",
   "id": "6635457c",
   "metadata": {},
   "source": [
    "si el error de la industria de la aseguradora de auto sinestrado es 1.79% a 2.0%"
   ]
  },
  {
   "cell_type": "code",
   "execution_count": null,
   "id": "35ecfe47",
   "metadata": {},
   "outputs": [],
   "source": [
    "plt.figure(figsize=(18,6))\n",
    "plt.plot(train2['y'][-100:], label='Actual')\n",
    "plt.plot(test2['y'], label='test')\n",
    "plt.plot(sarimax_pred, label='SARIMAX - Forecast')\n",
    "#plt.plot(sarima_forecast, label='SARIMA Forecast')\n",
    "plt.title('test VS arima_pred')\n",
    "plt.grid()\n",
    "plt.legend()\n",
    "plt.show()"
   ]
  },
  {
   "cell_type": "code",
   "execution_count": null,
   "id": "54681bf1",
   "metadata": {},
   "outputs": [],
   "source": [
    "pd.DataFrame(sarimax_fit.resid.iloc[1:], columns = [\"residuo\"])"
   ]
  },
  {
   "cell_type": "code",
   "execution_count": null,
   "id": "be45d692",
   "metadata": {},
   "outputs": [],
   "source": [
    "import scipy.stats as stats\n",
    "\n",
    "residuales_smax =pd.DataFrame(sarimax_fit.resid.iloc[1:], columns = [\"residuo\"])\n",
    "\n",
    "fig, axs = plt.subplots(nrows=2, ncols=2)\n",
    "\n",
    "# plot[1,1]\n",
    "residuales_smax[\"residuo\"].plot(ax=axs[0,0])\n",
    "axs[0,0].set_title(\"Residuals\");\n",
    "axs[0,0].axhline(0, linestyle='--', color='gray')\n",
    "\n",
    "# plot\n",
    "sns.distplot(residuales_smax[\"residuo\"], ax=axs[0,1]);\n",
    "axs[0,1].set_title(\"Density plot - Residual\");\n",
    "\n",
    "# plot\n",
    "stats.probplot(residuales_smax[\"residuo\"], dist=\"norm\", plot=axs[1,0])\n",
    "axs[1,0].set_title('Plot Q-Q')\n",
    "\n",
    "# plot\n",
    "plot_acf(residuales_smax[\"residuo\"],  lags=35, ax=axs[1,1],color=\"fuchsia\")\n",
    "axs[1,1].set_title(\"Autocorrelation\");\n",
    "\n",
    "plt.show();"
   ]
  },
  {
   "cell_type": "markdown",
   "id": "68333355",
   "metadata": {},
   "source": [
    "# Modelo con AutoArima \n",
    "\n",
    "Se requiere instalar `Statsforecat`\n",
    "\n",
    "    - pip install statsforecast"
   ]
  },
  {
   "cell_type": "code",
   "execution_count": null,
   "id": "21da5e2c",
   "metadata": {},
   "outputs": [],
   "source": [
    "df = sini2.copy()\n",
    "\n",
    "df = df.reset_index()\n",
    "df"
   ]
  },
  {
   "cell_type": "code",
   "execution_count": null,
   "id": "68518f26",
   "metadata": {},
   "outputs": [],
   "source": [
    "sini3 = df[['ds', 'y','costo_siniestros', 'precipitacion', 'riesgo_pais',  'moving_average_2', 'lag1', 'moving_average_3', 'moving_average_4', 'unique_id']]\n",
    "\n",
    "sini3"
   ]
  },
  {
   "cell_type": "code",
   "execution_count": null,
   "id": "632beecb",
   "metadata": {},
   "outputs": [],
   "source": [
    "train3 = sini3[sini3[\"ds\"]<= '2024-07-01'] \n",
    "test3 = sini3[sini3[\"ds\"] >'2024-07-01'] \n",
    "\n",
    "train3.shape, test3.shape"
   ]
  },
  {
   "cell_type": "code",
   "execution_count": null,
   "id": "f870b7ac",
   "metadata": {},
   "outputs": [],
   "source": [
    "# Modelo Clasicos\n",
    "# ==============================================================================\n",
    "from statsforecast import StatsForecast\n",
    "from statsforecast.utils import ConformalIntervals\n",
    "from utilsforecast.plotting import plot_series\n",
    "from statsforecast.models import AutoARIMA\n",
    "from statsforecast.models import SeasonalNaive\n",
    "from statsforecast.arima import arima_string"
   ]
  },
  {
   "cell_type": "code",
   "execution_count": null,
   "id": "e6f2ea69",
   "metadata": {},
   "outputs": [],
   "source": [
    "season_length = 12 # diario\n",
    "\n",
    "# Llamamos al modelo que vamos a usar\n",
    "models = [AutoARIMA(season_length = season_length), \n",
    "          ] # "
   ]
  },
  {
   "cell_type": "code",
   "execution_count": null,
   "id": "59f4a298",
   "metadata": {},
   "outputs": [],
   "source": [
    "# Construimos el modelo\n",
    "sf = StatsForecast(\n",
    "                   models = models,\n",
    "                   freq = 'MS', \n",
    "                   fallback_model = SeasonalNaive(season_length = season_length),\n",
    "                   n_jobs = -1)"
   ]
  },
  {
   "cell_type": "code",
   "execution_count": null,
   "id": "3387a47c",
   "metadata": {},
   "outputs": [],
   "source": [
    "from statsforecast.utils import ConformalIntervals\n",
    "\n",
    "# Intervalo de forecasting - Predicciones conforme\n",
    "intervals = ConformalIntervals(h = 12, n_windows = 5) # Cross Validation \n",
    "\n",
    "# fit the models\n",
    "sf.fit(df = train3, prediction_intervals = intervals)"
   ]
  },
  {
   "cell_type": "code",
   "execution_count": null,
   "id": "28204fe3",
   "metadata": {},
   "outputs": [],
   "source": [
    "arima_string(sf.fitted_[0,0].model_)"
   ]
  },
  {
   "cell_type": "code",
   "execution_count": null,
   "id": "73e4b1bc",
   "metadata": {},
   "outputs": [],
   "source": [
    "test3.drop(\"y\",axis=1, inplace=True)"
   ]
  },
  {
   "cell_type": "code",
   "execution_count": null,
   "id": "5281f6ce",
   "metadata": {},
   "outputs": [],
   "source": [
    "# Prediction\n",
    "Y_hat1 = sf.forecast(df = train3, h = 12, level = [80, 95], fitted = True, X_df = test3)  #  X_df = test\n",
    "Y_hat1"
   ]
  },
  {
   "cell_type": "code",
   "execution_count": null,
   "id": "5972d650",
   "metadata": {},
   "outputs": [],
   "source": [
    "plot_series(sini3, Y_hat1, max_insample_length = 100, level = [80, 95])"
   ]
  },
  {
   "cell_type": "code",
   "execution_count": null,
   "id": "15380f18",
   "metadata": {},
   "outputs": [],
   "source": [
    "cv_sf = sf.cross_validation(df = train3, h = 12, n_windows = 5)\n",
    "cv_sf.tail()"
   ]
  },
  {
   "cell_type": "code",
   "execution_count": null,
   "id": "e1b6bcc2",
   "metadata": {},
   "outputs": [],
   "source": [
    "from utilsforecast.losses import mse, mae, rmse, mape, smape\n",
    "\n",
    "def evaluate_cv(df, metric):\n",
    "    models = df.columns.drop(['unique_id', 'ds', 'y', 'cutoff']).tolist()\n",
    "    evals = metric(df, models=models)\n",
    "    evals['best_model'] = evals[models].idxmin(axis=1)\n",
    "    return evals"
   ]
  },
  {
   "cell_type": "code",
   "execution_count": null,
   "id": "474bf4d8",
   "metadata": {},
   "outputs": [],
   "source": [
    "evaluate_cv(cv_sf, rmse)"
   ]
  },
  {
   "cell_type": "code",
   "execution_count": null,
   "id": "fae48437",
   "metadata": {},
   "outputs": [],
   "source": [
    "plot_series(sini3, Y_hat1, max_insample_length = 100, level = [80, 95])"
   ]
  },
  {
   "cell_type": "markdown",
   "id": "ca911b8b",
   "metadata": {},
   "source": [
    "## `Modelos de ML`\n",
    "\n",
    "- Se requiere instalar MLForecast\n",
    "    - `pip install mlforecast`"
   ]
  },
  {
   "cell_type": "markdown",
   "id": "b64f6bba",
   "metadata": {},
   "source": [
    "### Seleccionar las variable que usaron en el modelo Sarimax:\n",
    "\n",
    "- costo_siniestros,\n",
    "- precipitacion\n",
    "- riesgo_pais  \n",
    "- lag1\n",
    "- moving_average_2\n",
    "- moving_average_3 \n",
    "- moving_average_4"
   ]
  },
  {
   "cell_type": "markdown",
   "id": "66f589a6",
   "metadata": {},
   "source": [
    "## Divir datos\n",
    "\n",
    "- Datos en entrenamiento\n",
    "- Datos de prueba(o validar el modelo)\n",
    "\n",
    "Usaremos los ultimos 12 meses para validar o probar los modelos"
   ]
  },
  {
   "cell_type": "code",
   "execution_count": null,
   "id": "3e60d495",
   "metadata": {},
   "outputs": [],
   "source": [
    "train4 = sini3[sini3[\"ds\"]<= '2024-07-01'] \n",
    "test4 = sini3[sini3[\"ds\"] >'2024-07-01'] \n",
    "\n",
    "train4.shape, test4.shape"
   ]
  },
  {
   "cell_type": "markdown",
   "id": "280d8656",
   "metadata": {},
   "source": [
    "### Cargar librera "
   ]
  },
  {
   "cell_type": "code",
   "execution_count": null,
   "id": "809c8039",
   "metadata": {},
   "outputs": [],
   "source": [
    "# Utils - Herramientas\n",
    "# ==============================================================================\n",
    "from utilsforecast.plotting import plot_series\n",
    "from utilsforecast.preprocessing import fill_gaps\n",
    "from functools import partial\n",
    "from utilsforecast.feature_engineering import fourier, trend, time_features\n",
    "from utilsforecast.feature_engineering import pipeline\n",
    "from utilsforecast.feature_engineering import future_exog_to_historic\n",
    "from mlforecast.target_transforms import LocalRobustScaler, LocalStandardScaler\n",
    "from mlforecast.lag_transforms import RollingMean, ExpandingStd\n",
    "import operator\n",
    "from mlforecast.target_transforms import Differences\n",
    "from mlforecast.utils import PredictionIntervals\n",
    "from mlforecast.lag_transforms import Combine"
   ]
  },
  {
   "cell_type": "code",
   "execution_count": null,
   "id": "15dc33e7",
   "metadata": {},
   "outputs": [],
   "source": [
    "# Sklearn modelos\n",
    "# ==============================================================================\n",
    "from sklearn.ensemble import RandomForestRegressor\n",
    "from sklearn.tree import DecisionTreeRegressor\n",
    "from sklearn.linear_model import LinearRegression\n",
    "from xgboost import XGBRegressor\n",
    "\n",
    "# Mlforecast\n",
    "# ==============================================================================\n",
    "from mlforecast import MLForecast\n"
   ]
  },
  {
   "cell_type": "markdown",
   "id": "c10958b7",
   "metadata": {},
   "source": [
    "## Seleccionar los modelo a entrenar\n",
    "\n",
    "- Regresion lineal\n",
    "- Arbol de Decison\n",
    "- Random Forest(bosque aleatorio)\n",
    "- XGBoost(Boosting)\n",
    "\n",
    "Luego crear un diccionario"
   ]
  },
  {
   "cell_type": "code",
   "execution_count": null,
   "id": "dd8fef6c",
   "metadata": {},
   "outputs": [],
   "source": [
    "# Crear diccionario \n",
    "\n",
    "model1 = {\n",
    "    'lr':LinearRegression(),\n",
    "    \"rf\": RandomForestRegressor(n_estimators= 500, max_depth= 5, n_jobs= -1),\n",
    "    'xgb': XGBRegressor(n_estimators = 500,       # Número de árboles (más árboles = mejor ajuste)\n",
    "                        max_depth = 5,            # Profundidad de los árboles (mayor profundidad captura más patrones)\n",
    "                        ),\n",
    "    \"dt\": DecisionTreeRegressor(),\n",
    "}"
   ]
  },
  {
   "cell_type": "markdown",
   "id": "ee2fc4f9",
   "metadata": {},
   "source": [
    "## Construir el modelo\n",
    "\n",
    "Mandamos a llamar a la funcion `MLForecast`, con los siguientes parametros:\n",
    "\n",
    "- Models: Modelos que se han seleccionado\n",
    "- freq: Frecuencia de los datos(Mensuales)\n",
    "- target_transforms: Transforma la variables (Diferenciar la serie o estandarizar la serie)\n",
    "- date_feature: Datos estacionales\n",
    "- num_treads: Número de subprocesos a utilizar al calcular las características."
   ]
  },
  {
   "cell_type": "code",
   "execution_count": null,
   "id": "6c8b7902",
   "metadata": {},
   "outputs": [],
   "source": [
    "mlf1 = MLForecast(models = model1,\n",
    "                 freq = 'MS', \n",
    "                 #lags = range(1, 5, 1),\n",
    "                 target_transforms= [Differences([12]), LocalStandardScaler()], # LocalRobustScaler(scale='iqr')  Differences([1]), LocalStandardScaler()\n",
    "                 date_features = [\"year\", \"month\", \"day\"], # Estacionalidad\n",
    "                 num_threads = 32\n",
    "                 ) "
   ]
  },
  {
   "cell_type": "code",
   "execution_count": null,
   "id": "34c10d44",
   "metadata": {},
   "outputs": [],
   "source": [
    "mlf1.preprocess(train, static_features= [])"
   ]
  },
  {
   "cell_type": "markdown",
   "id": "e56a3f32",
   "metadata": {},
   "source": [
    "## `Entrenar los modelos`"
   ]
  },
  {
   "cell_type": "code",
   "execution_count": null,
   "id": "0f9e856c",
   "metadata": {},
   "outputs": [],
   "source": [
    "# Entrenar el modelo\n",
    "mlf1.fit(train4, fitted = True, static_features= [],\n",
    "prediction_intervals=PredictionIntervals(n_windows = 5, h = 12, method=\"conformal_distribution\"))"
   ]
  },
  {
   "cell_type": "markdown",
   "id": "64f4892d",
   "metadata": {},
   "source": [
    "## `Forecasting`\n",
    "\n",
    "- h: El horizonte(lo que quiero pronosticar, e.g= mensuales)\n",
    "- level: Intervalos de predicciones (nivel de confianza, en percentil)\n",
    "- X_df: Variables exogenas(datos de entrenamiento)"
   ]
  },
  {
   "cell_type": "code",
   "execution_count": null,
   "id": "51683f96",
   "metadata": {},
   "outputs": [],
   "source": [
    "forecast1 = mlf1.predict(h = 12, level = [80,95], X_df = test4) \n",
    "\n",
    "forecast1.tail()"
   ]
  },
  {
   "cell_type": "markdown",
   "id": "d421544b",
   "metadata": {},
   "source": [
    "### Visualziar el forecast\n",
    "\n",
    "- usamos la funcion `plot_series`"
   ]
  },
  {
   "cell_type": "code",
   "execution_count": null,
   "id": "cf7bd46c",
   "metadata": {},
   "outputs": [],
   "source": [
    "plot_series(sini3, forecast1,  max_insample_length = 100, )"
   ]
  },
  {
   "cell_type": "code",
   "execution_count": null,
   "id": "c554abf4",
   "metadata": {},
   "outputs": [],
   "source": [
    "# Agregar intervalo de predicciones al 95\n",
    "plot_series(sini3, forecast1,  max_insample_length = 100, level = [95])"
   ]
  },
  {
   "cell_type": "code",
   "execution_count": null,
   "id": "05de4603",
   "metadata": {},
   "outputs": [],
   "source": [
    "# Agregar intervalo de predicciones al 80\n",
    "plot_series(sini3, forecast1,  max_insample_length = 100, level = [80])"
   ]
  },
  {
   "cell_type": "code",
   "execution_count": null,
   "id": "38aaf637",
   "metadata": {},
   "outputs": [],
   "source": [
    "# Agregar intervalo de predicciones al cambinado [80, 95]\n",
    "plot_series(sini3, forecast1,  max_insample_length = 100, level = [80, 95])"
   ]
  },
  {
   "cell_type": "markdown",
   "id": "9b4ad991",
   "metadata": {},
   "source": [
    "# **Evaluar el rendimiento de los modelo.** \n",
    "\n",
    "## **Perform time series cross-validation**"
   ]
  },
  {
   "cell_type": "code",
   "execution_count": null,
   "id": "cca63fd3",
   "metadata": {},
   "outputs": [],
   "source": [
    "cv1 = mlf1.cross_validation(\n",
    "    train4, static_features= [],\n",
    "    n_windows = 5,  # número de modelos a entrenar/divisiones a realizar\n",
    "    h = 12,  \n",
    ")\n",
    "cv1.tail()"
   ]
  },
  {
   "cell_type": "markdown",
   "id": "81b98696",
   "metadata": {},
   "source": [
    "## Evaluar alguna metrica el modelo\n",
    "\n",
    "- mse\n",
    "- mae\n",
    "- rmse\n",
    "- mape\n",
    "- smape"
   ]
  },
  {
   "cell_type": "code",
   "execution_count": null,
   "id": "8fc3ecba",
   "metadata": {},
   "outputs": [],
   "source": [
    "from utilsforecast.losses import mse, mae, rmse, mape, smape\n",
    "\n",
    "def evaluate_cv(df, metric):\n",
    "    models = df.columns.drop(['unique_id', 'ds', 'y', 'cutoff']).tolist()\n",
    "    evals = metric(df, models=models)\n",
    "    evals['best_model'] = evals[models].idxmin(axis=1)\n",
    "    return evals"
   ]
  },
  {
   "cell_type": "code",
   "execution_count": null,
   "id": "8dcf394d",
   "metadata": {},
   "outputs": [],
   "source": [
    "# evaluar con rmse\n",
    "evaluate_cv(cv1, rmse)"
   ]
  },
  {
   "cell_type": "code",
   "execution_count": null,
   "id": "66ed86ad",
   "metadata": {},
   "outputs": [],
   "source": [
    "# evaluar con mape\n",
    "evaluate_cv(cv1, mape)"
   ]
  },
  {
   "cell_type": "code",
   "execution_count": null,
   "id": "01f0ee9a",
   "metadata": {},
   "outputs": [],
   "source": [
    "plot_series(sini3, forecast1,  max_insample_length = 300, models = [\"rf\"],)"
   ]
  },
  {
   "cell_type": "code",
   "execution_count": null,
   "id": "7f355592",
   "metadata": {},
   "outputs": [],
   "source": [
    "plot_series(sini3, forecast1,  max_insample_length = 100, models = [\"rf\"], level = [80, 95])"
   ]
  },
  {
   "cell_type": "code",
   "execution_count": null,
   "id": "32321f1e",
   "metadata": {},
   "outputs": [],
   "source": []
  }
 ],
 "metadata": {
  "kernelspec": {
   "display_name": "arima",
   "language": "python",
   "name": "python3"
  },
  "language_info": {
   "codemirror_mode": {
    "name": "ipython",
    "version": 3
   },
   "file_extension": ".py",
   "mimetype": "text/x-python",
   "name": "python",
   "nbconvert_exporter": "python",
   "pygments_lexer": "ipython3",
   "version": "3.10.18"
  }
 },
 "nbformat": 4,
 "nbformat_minor": 5
}
